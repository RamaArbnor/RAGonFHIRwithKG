{
 "cells": [
  {
   "cell_type": "markdown",
   "metadata": {},
   "source": [
    "RAG WITH FHIR DATA LEVERAGING KNOWLEDGE GRAPHS "
   ]
  },
  {
   "cell_type": "code",
   "execution_count": 65,
   "metadata": {},
   "outputs": [
    {
     "name": "stderr",
     "output_type": "stream",
     "text": [
      "C:\\Users\\STORM\\AppData\\Local\\Temp\\ipykernel_21776\\741614434.py:43: DeprecationWarning: write_transaction has been renamed to execute_write\n",
      "  session.write_transaction(clear_database)\n",
      "C:\\Users\\STORM\\AppData\\Local\\Temp\\ipykernel_21776\\741614434.py:47: DeprecationWarning: write_transaction has been renamed to execute_write\n",
      "  session.write_transaction(load_bundle, cleaned_json_string)\n"
     ]
    }
   ],
   "source": [
    "from neo4j import GraphDatabase\n",
    "import json\n",
    "import os\n",
    "from dotenv import load_dotenv\n",
    "\n",
    "\n",
    "load_dotenv()\n",
    "# Set up Neo4j connection\n",
    "uri = os.getenv(\"NEO4J_URI\", \"\")\n",
    "username = os.getenv(\"NEO4J_USERNAME\", \"\")\n",
    "password = os.getenv(\"NEO4J_PASSWORD\", \"\")\n",
    "driver = GraphDatabase.driver(uri, auth=(username, password))\n",
    "\n",
    "# Function to remove 'text.display' fields\n",
    "def remove_text_display(data):\n",
    "    for entry in data.get(\"entry\", []):\n",
    "        resource = entry.get(\"resource\", {})\n",
    "        if \"text\" in resource and \"display\" in resource[\"text\"]:\n",
    "            del resource[\"text\"][\"display\"]\n",
    "    return data\n",
    "\n",
    "# Load and preprocess FHIR JSON file\n",
    "with open(r\"C:\\Users\\STORM\\Documents\\GitHub\\RAGwithFHIR\\Dataset\\Bart73_King743_26b2b916-50a8-2b98-71b0-3150050312c8.json\", \"r\") as file:\n",
    "    fhir_data = json.load(file)\n",
    "\n",
    "# Clean the data by removing 'text.display' fields\n",
    "cleaned_data = remove_text_display(fhir_data)\n",
    "\n",
    "# Functions for Neo4j database interactions\n",
    "\n",
    "# 1. Clear the database\n",
    "def clear_database(tx):\n",
    "    tx.run(\"MATCH (n) DETACH DELETE n\")\n",
    "\n",
    "# 2. Load FHIR data using CyFHIR\n",
    "def load_bundle(tx, json_string):\n",
    "    tx.run(\"CALL cyfhir.bundle.load($json, {validation: true, version: 'R4'})\", json=json_string)\n",
    "\n",
    "\n",
    "# Execute script\n",
    "with driver.session() as session:\n",
    "    # Clear the database\n",
    "    session.write_transaction(clear_database)\n",
    "    \n",
    "    # Load the cleaned FHIR data as a JSON string\n",
    "    cleaned_json_string = json.dumps(cleaned_data)\n",
    "    session.write_transaction(load_bundle, cleaned_json_string)\n",
    "    \n",
    "    # Add indexes\n",
    "    # session.write_transaction(add_indexes)\n",
    "    \n",
    "    # Create relationships for structured knowledge graph\n",
    "    # session.write_transaction(create_relationships)\n",
    "\n",
    "driver.close()\n"
   ]
  },
  {
   "cell_type": "code",
   "execution_count": 66,
   "metadata": {},
   "outputs": [
    {
     "name": "stdout",
     "output_type": "stream",
     "text": [
      "Executed: MATCH (n:resource {resourceType: 'Condition'}) SET n:Condition\n",
      "Executed: MATCH (n:resource {resourceType: 'Condition'}) SET n:Embeddable\n",
      "Executed: MATCH (n:resource {resourceType: 'Observation'}) SET n:Observation\n",
      "Executed: MATCH (n:resource {resourceType: 'Medication'}) SET n:Medication\n",
      "Executed: MATCH (n:resource {resourceType: 'Patient'}) SET n:Patient\n",
      "Executed: MATCH (n:resource {resourceType: 'MedicationRequest'}) SET n:MedicationRequest\n"
     ]
    }
   ],
   "source": [
    "driver = GraphDatabase.driver(uri, auth=(username, password))\n",
    "\n",
    "# Define queries\n",
    "queries = [\n",
    "    \"MATCH (n:resource {resourceType: 'Condition'}) SET n:Condition\",\n",
    "    \"MATCH (n:resource {resourceType: 'Condition'}) SET n:Embeddable\",\n",
    "    \"MATCH (n:resource {resourceType: 'Observation'}) SET n:Observation\",\n",
    "    \"MATCH (n:resource {resourceType: 'Medication'}) SET n:Medication\",\n",
    "    \"MATCH (n:resource {resourceType: 'Patient'}) SET n:Patient\",\n",
    "    # \"MATCH (n:resource {resourceType: 'Patient'}) SET n:Embeddable\",\n",
    "    \"MATCH (n:resource {resourceType: 'MedicationRequest'}) SET n:MedicationRequest\",\n",
    "\n",
    "]\n",
    "\n",
    "# Function to run each query\n",
    "def tag_resources(driver, queries):\n",
    "    with driver.session() as session:\n",
    "        for query in queries:\n",
    "            session.run(query)\n",
    "            print(f\"Executed: {query}\")\n",
    "\n",
    "# Run the tagging queries\n",
    "tag_resources(driver, queries)\n",
    "\n",
    "# Close the driver connection\n",
    "driver.close()"
   ]
  },
  {
   "cell_type": "markdown",
   "metadata": {},
   "source": [
    "Creating embedding text for patient node"
   ]
  },
  {
   "cell_type": "code",
   "execution_count": 67,
   "metadata": {},
   "outputs": [],
   "source": [
    "from neo4j import GraphDatabase\n",
    "\n",
    "driver = GraphDatabase.driver(uri, auth=(username, password))\n",
    "\n",
    "def create_patient_embedding(driver):\n",
    "    query = \"\"\"\n",
    "        MATCH (p:Patient)\n",
    "        OPTIONAL MATCH (p)-[:address]->(a)\n",
    "        OPTIONAL MATCH (p)-[:maritalStatus]->(m)\n",
    "        OPTIONAL MATCH (p)-[:name]->(n)\n",
    "        RETURN \n",
    "            n.given as name,\n",
    "            n.family as lname,\n",
    "            p.gender AS gender,\n",
    "            p.birthDate AS birthdate,\n",
    "            a.city as city,\n",
    "            a.country as country,\n",
    "            a.state as state,\n",
    "            a.line as line,\n",
    "            m.text as marrigialStatus\n",
    "    \"\"\"\n",
    "\n",
    "    # Run the query and process results\n",
    "    with driver.session() as session:\n",
    "        result = session.run(query)\n",
    "        patient_info = []\n",
    "        \n",
    "        for record in result:\n",
    "            # Debugging: print the raw record to see what is returned\n",
    "            # print(\"Raw record:\", record)\n",
    "            \n",
    "            # Collect data from each record\n",
    "            name = record.get(\"name\", \"Unknown\")\n",
    "            lname = record.get(\"lname\", \"Unknown\")\n",
    "            gender = record.get(\"gender\", \"Not specified\")\n",
    "            birthdate = record.get(\"birthdate\", \"Unknown\")\n",
    "            marital_status = record.get(\"marrigialStatus\", \"Unknown\")\n",
    "            city = record.get(\"city\", \"Unknown\")\n",
    "            country = record.get(\"country\", \"Unknown\")\n",
    "            state = record.get(\"state\", \"Unknown\")\n",
    "            line = record.get(\"line\", \"Unknown\")\n",
    "            \n",
    "            # Debugging: check the values of fields\n",
    "            # print(f\"Name: {name}, Line: {line}, City: {city}, State: {state}, Country: {country}\")\n",
    "            \n",
    "            # Combine into one embedding text\n",
    "            address = f\"{line}, {city}, {state}, {country}\" if line != \"Unknown\" else f\"{city}, {state}, {country}\"\n",
    "            embedding_text = f\"Name: {name} {lname}, Address: {address}, Gender: {gender}, Birthdate: {birthdate}, Marital Status: {marital_status}\"\n",
    "            patient_info.append(embedding_text)\n",
    "\n",
    "        update_query = \"\"\"\n",
    "            MATCH (p:Patient)\n",
    "\n",
    "            SET p.embeddingText = $embedding_text\n",
    "        \"\"\"\n",
    "        session.run(update_query, embedding_text=embedding_text)\n",
    "\n",
    "        return patient_info\n",
    "\n",
    "# Get the patient embedding text\n",
    "patient_embeddingText = create_patient_embedding(driver)\n",
    "\n",
    "\n"
   ]
  },
  {
   "cell_type": "code",
   "execution_count": 68,
   "metadata": {},
   "outputs": [
    {
     "name": "stderr",
     "output_type": "stream",
     "text": [
      "Received notification from DBMS server: {severity: WARNING} {code: Neo.ClientNotification.Statement.FeatureDeprecationWarning} {category: DEPRECATION} {title: This feature is deprecated and will be removed in future versions.} {description: The query used a deprecated function: `id`.} {position: line: 7, column: 13, offset: 161} for query: '\\n        MATCH (c:Condition)\\n        OPTIONAL MATCH (c)-[:code]->(t)\\n        RETURN \\n            c.recordedDate AS date,\\n            t.text AS text,\\n            id(c) AS nodeId\\n    '\n",
      "Received notification from DBMS server: {severity: WARNING} {code: Neo.ClientNotification.Statement.FeatureDeprecationWarning} {category: DEPRECATION} {title: This feature is deprecated and will be removed in future versions.} {description: The query used a deprecated function: `id`.} {position: line: 3, column: 23, offset: 59} for query: '\\n                MATCH (c:Condition)\\n                WHERE id(c) = $node_id\\n                SET c.embeddingText = $embedding_text\\n            '\n",
      "Received notification from DBMS server: {severity: WARNING} {code: Neo.ClientNotification.Statement.FeatureDeprecationWarning} {category: DEPRECATION} {title: This feature is deprecated and will be removed in future versions.} {description: The query used a deprecated function: `id`.} {position: line: 3, column: 23, offset: 59} for query: '\\n                MATCH (c:Condition)\\n                WHERE id(c) = $node_id\\n                SET c.embeddingText = $embedding_text\\n            '\n",
      "Received notification from DBMS server: {severity: WARNING} {code: Neo.ClientNotification.Statement.FeatureDeprecationWarning} {category: DEPRECATION} {title: This feature is deprecated and will be removed in future versions.} {description: The query used a deprecated function: `id`.} {position: line: 3, column: 23, offset: 59} for query: '\\n                MATCH (c:Condition)\\n                WHERE id(c) = $node_id\\n                SET c.embeddingText = $embedding_text\\n            '\n",
      "Received notification from DBMS server: {severity: WARNING} {code: Neo.ClientNotification.Statement.FeatureDeprecationWarning} {category: DEPRECATION} {title: This feature is deprecated and will be removed in future versions.} {description: The query used a deprecated function: `id`.} {position: line: 3, column: 23, offset: 59} for query: '\\n                MATCH (c:Condition)\\n                WHERE id(c) = $node_id\\n                SET c.embeddingText = $embedding_text\\n            '\n",
      "Received notification from DBMS server: {severity: WARNING} {code: Neo.ClientNotification.Statement.FeatureDeprecationWarning} {category: DEPRECATION} {title: This feature is deprecated and will be removed in future versions.} {description: The query used a deprecated function: `id`.} {position: line: 3, column: 23, offset: 59} for query: '\\n                MATCH (c:Condition)\\n                WHERE id(c) = $node_id\\n                SET c.embeddingText = $embedding_text\\n            '\n",
      "Received notification from DBMS server: {severity: WARNING} {code: Neo.ClientNotification.Statement.FeatureDeprecationWarning} {category: DEPRECATION} {title: This feature is deprecated and will be removed in future versions.} {description: The query used a deprecated function: `id`.} {position: line: 3, column: 23, offset: 59} for query: '\\n                MATCH (c:Condition)\\n                WHERE id(c) = $node_id\\n                SET c.embeddingText = $embedding_text\\n            '\n",
      "Received notification from DBMS server: {severity: WARNING} {code: Neo.ClientNotification.Statement.FeatureDeprecationWarning} {category: DEPRECATION} {title: This feature is deprecated and will be removed in future versions.} {description: The query used a deprecated function: `id`.} {position: line: 3, column: 23, offset: 59} for query: '\\n                MATCH (c:Condition)\\n                WHERE id(c) = $node_id\\n                SET c.embeddingText = $embedding_text\\n            '\n",
      "Received notification from DBMS server: {severity: WARNING} {code: Neo.ClientNotification.Statement.FeatureDeprecationWarning} {category: DEPRECATION} {title: This feature is deprecated and will be removed in future versions.} {description: The query used a deprecated function: `id`.} {position: line: 3, column: 23, offset: 59} for query: '\\n                MATCH (c:Condition)\\n                WHERE id(c) = $node_id\\n                SET c.embeddingText = $embedding_text\\n            '\n",
      "Received notification from DBMS server: {severity: WARNING} {code: Neo.ClientNotification.Statement.FeatureDeprecationWarning} {category: DEPRECATION} {title: This feature is deprecated and will be removed in future versions.} {description: The query used a deprecated function: `id`.} {position: line: 3, column: 23, offset: 59} for query: '\\n                MATCH (c:Condition)\\n                WHERE id(c) = $node_id\\n                SET c.embeddingText = $embedding_text\\n            '\n",
      "Received notification from DBMS server: {severity: WARNING} {code: Neo.ClientNotification.Statement.FeatureDeprecationWarning} {category: DEPRECATION} {title: This feature is deprecated and will be removed in future versions.} {description: The query used a deprecated function: `id`.} {position: line: 3, column: 23, offset: 59} for query: '\\n                MATCH (c:Condition)\\n                WHERE id(c) = $node_id\\n                SET c.embeddingText = $embedding_text\\n            '\n",
      "Received notification from DBMS server: {severity: WARNING} {code: Neo.ClientNotification.Statement.FeatureDeprecationWarning} {category: DEPRECATION} {title: This feature is deprecated and will be removed in future versions.} {description: The query used a deprecated function: `id`.} {position: line: 3, column: 23, offset: 59} for query: '\\n                MATCH (c:Condition)\\n                WHERE id(c) = $node_id\\n                SET c.embeddingText = $embedding_text\\n            '\n",
      "Received notification from DBMS server: {severity: WARNING} {code: Neo.ClientNotification.Statement.FeatureDeprecationWarning} {category: DEPRECATION} {title: This feature is deprecated and will be removed in future versions.} {description: The query used a deprecated function: `id`.} {position: line: 3, column: 23, offset: 59} for query: '\\n                MATCH (c:Condition)\\n                WHERE id(c) = $node_id\\n                SET c.embeddingText = $embedding_text\\n            '\n",
      "Received notification from DBMS server: {severity: WARNING} {code: Neo.ClientNotification.Statement.FeatureDeprecationWarning} {category: DEPRECATION} {title: This feature is deprecated and will be removed in future versions.} {description: The query used a deprecated function: `id`.} {position: line: 3, column: 23, offset: 59} for query: '\\n                MATCH (c:Condition)\\n                WHERE id(c) = $node_id\\n                SET c.embeddingText = $embedding_text\\n            '\n",
      "Received notification from DBMS server: {severity: WARNING} {code: Neo.ClientNotification.Statement.FeatureDeprecationWarning} {category: DEPRECATION} {title: This feature is deprecated and will be removed in future versions.} {description: The query used a deprecated function: `id`.} {position: line: 3, column: 23, offset: 59} for query: '\\n                MATCH (c:Condition)\\n                WHERE id(c) = $node_id\\n                SET c.embeddingText = $embedding_text\\n            '\n",
      "Received notification from DBMS server: {severity: WARNING} {code: Neo.ClientNotification.Statement.FeatureDeprecationWarning} {category: DEPRECATION} {title: This feature is deprecated and will be removed in future versions.} {description: The query used a deprecated function: `id`.} {position: line: 3, column: 23, offset: 59} for query: '\\n                MATCH (c:Condition)\\n                WHERE id(c) = $node_id\\n                SET c.embeddingText = $embedding_text\\n            '\n"
     ]
    }
   ],
   "source": [
    "from neo4j import GraphDatabase\n",
    "\n",
    "# Initialize the Neo4j driver\n",
    "driver = GraphDatabase.driver(uri, auth=(username, password))\n",
    "\n",
    "def create_patient_embedding(driver):\n",
    "    query = \"\"\"\n",
    "        MATCH (c:Condition)\n",
    "        OPTIONAL MATCH (c)-[:code]->(t)\n",
    "        RETURN \n",
    "            c.recordedDate AS date,\n",
    "            t.text AS text,\n",
    "            id(c) AS nodeId\n",
    "    \"\"\"\n",
    "\n",
    "    # Run the query and process results\n",
    "    with driver.session() as session:\n",
    "        result = session.run(query)\n",
    "        patient_info = []\n",
    "        \n",
    "        for record in result:\n",
    "            # Extract the data safely\n",
    "            date = record.get(\"date\", \"Unknown\")\n",
    "            text = record.get(\"text\", \"Unknown\")\n",
    "            node_id = record[\"nodeId\"]\n",
    "\n",
    "            # Construct the embedding text\n",
    "            embedding_text = f\"The patient had the condition: {text}, and it was recorded on this date: {date}\"\n",
    "\n",
    "            # Store the embedding text in the corresponding node\n",
    "            update_query = \"\"\"\n",
    "                MATCH (c:Condition)\n",
    "                WHERE id(c) = $node_id\n",
    "                SET c.embeddingText = $embedding_text\n",
    "            \"\"\"\n",
    "            session.run(update_query, node_id=node_id, embedding_text=embedding_text)\n",
    "\n",
    "            # Collect the embedding text for debugging or further use\n",
    "            patient_info.append(embedding_text)\n",
    "\n",
    "        return patient_info\n",
    "\n",
    "# Get the patient embedding text\n",
    "patient_embedding_texts = create_patient_embedding(driver)\n",
    "\n",
    "# Debugging: Print all generated embedding texts\n",
    "# for text in patient_embedding_texts:\n",
    "#     print(text)\n"
   ]
  },
  {
   "cell_type": "markdown",
   "metadata": {},
   "source": [
    "Vector index from graph"
   ]
  },
  {
   "cell_type": "code",
   "execution_count": 46,
   "metadata": {},
   "outputs": [],
   "source": [
    "# from langchain.embeddings.base import Embeddings\n",
    "# import requests  # Or use any necessary package to communicate with Ollama\n",
    "\n",
    "# class OllamaEmbeddings(Embeddings):\n",
    "#     def __init__(self, model_name=\"mxbai-embed-large\"):\n",
    "#         self.model_name = model_name\n",
    "\n",
    "#     def embed_text(self, text: str) -> list:\n",
    "#         # Call Ollama's API or local embedding function\n",
    "#         # Modify this code based on how you interact with Ollama\n",
    "#         response = requests.post(\n",
    "#             \"http://localhost:11434/api/embeddings\",  # Replace with Ollama's endpoint\n",
    "#             json={\"model\": self.model_name, \"text\": text}\n",
    "#         )\n",
    "#         if response.status_code == 200:\n",
    "#             return response.json()[\"embedding\"]\n",
    "#         else:\n",
    "#             raise ValueError(\"Error retrieving embedding from Ollama\")\n",
    "\n",
    "#     def embed_documents(self, texts: list) -> list:\n",
    "#         return [self.embed_text(text) for text in texts]\n",
    "    \n",
    "#     def embed_query(self, text: str) -> list:\n",
    "#         # Use the same embedding process for queries as for text\n",
    "#         return self.embed_text(text)\n"
   ]
  },
  {
   "cell_type": "code",
   "execution_count": 71,
   "metadata": {},
   "outputs": [
    {
     "name": "stdout",
     "output_type": "stream",
     "text": [
      "<langchain_community.vectorstores.neo4j_vector.Neo4jVector object at 0x0000022E42661D00>\n"
     ]
    }
   ],
   "source": [
    "from langchain.graphs import Neo4jGraph\n",
    "from langchain.vectorstores.neo4j_vector import Neo4jVector\n",
    "\n",
    "from langchain.embeddings import HuggingFaceEmbeddings\n",
    "\n",
    "# Specify the model from Hugging Face, e.g., \"sentence-transformers/all-MiniLM-L6-v2\"\n",
    "hf_embeddings = HuggingFaceEmbeddings(model_name=\"sentence-transformers/all-MiniLM-L6-v2\")\n",
    "\n",
    "# Create the vector index from the existing Neo4j graph\n",
    "vector_index = Neo4jVector.from_existing_graph(\n",
    "    hf_embeddings,\n",
    "    url=uri,\n",
    "    username=username,\n",
    "    password=password,\n",
    "    index_name='FHIR',\n",
    "    node_label=\"Patient\",  # Replace with the actual label of your nodes\n",
    "    text_node_properties=['embeddingText'],  # Properties to embed\n",
    "    embedding_node_property='embedding',  # Property to store embeddings in Neo4j\n",
    ")\n",
    "\n",
    "print(vector_index)\n",
    "\n"
   ]
  },
  {
   "cell_type": "code",
   "execution_count": 72,
   "metadata": {},
   "outputs": [
    {
     "name": "stdout",
     "output_type": "stream",
     "text": [
      "[]\n"
     ]
    }
   ],
   "source": [
    "question = \"Acute viral pharyngitis\"\n",
    "\n",
    "response = vector_index.similarity_search(question, k=10)\n",
    "print(response)"
   ]
  },
  {
   "cell_type": "code",
   "execution_count": null,
   "metadata": {},
   "outputs": [],
   "source": [
    "from neo4j import GraphDatabase\n",
    "\n",
    "# Initialize the Neo4j driver\n",
    "driver = GraphDatabase.driver(uri, auth=(username, password))\n",
    "\n",
    "def print_embeddable_nodes(driver):\n",
    "    query = \"\"\"\n",
    "        MATCH (n:Embeddable)\n",
    "        RETURN n.resourceType AS resourceType, n.embeddingText AS embeddingText\n",
    "    \"\"\"\n",
    "    \n",
    "    with driver.session() as session:\n",
    "        result = session.run(query)\n",
    "        for record in result:\n",
    "            resource_type = record.get(\"resourceType\", \"Unknown\")\n",
    "            embedding_text = record.get(\"embeddingText\", \"No embedding text\")\n",
    "            print(f\"Resource Type: {resource_type}, Embedding Text: {embedding_text[:100]}...\")  # Print first 100 chars\n",
    "\n",
    "# Call the function to print embeddable nodes\n",
    "print_embeddable_nodes(driver)\n",
    "\n",
    "# Close the driver connection\n",
    "driver.close()"
   ]
  }
 ],
 "metadata": {
  "kernelspec": {
   "display_name": "Python 3",
   "language": "python",
   "name": "python3"
  },
  "language_info": {
   "codemirror_mode": {
    "name": "ipython",
    "version": 3
   },
   "file_extension": ".py",
   "mimetype": "text/x-python",
   "name": "python",
   "nbconvert_exporter": "python",
   "pygments_lexer": "ipython3",
   "version": "3.12.7"
  }
 },
 "nbformat": 4,
 "nbformat_minor": 2
}
